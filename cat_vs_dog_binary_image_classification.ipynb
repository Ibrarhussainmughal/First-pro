{
  "nbformat": 4,
  "nbformat_minor": 0,
  "metadata": {
    "colab": {
      "name": "cat-vs-dog -binary image-classification",
      "provenance": [],
      "collapsed_sections": []
    },
    "kernelspec": {
      "name": "python3",
      "display_name": "Python 3"
    },
    "language_info": {
      "name": "python"
    },
    "accelerator": "GPU"
  },
  "cells": [
    {
      "cell_type": "code",
      "metadata": {
        "colab": {
          "base_uri": "https://localhost:8080/"
        },
        "id": "JIDtup6ft_4J",
        "outputId": "c89464ee-0b70-4f8e-9cdf-e835520ea095"
      },
      "source": [
        "import os\n",
        "os.environ['KAGGLE_USERNAME'] = \"lbrarali\" # user name from the json file\n",
        "os.environ[\"KAGGLE_KEY\"] =\"0336b492e0311592b0772eedef1c9795\"\n",
        "!kaggle competitions download -c dogs-vs-cats # api copied from kaggle"
      ],
      "execution_count": null,
      "outputs": [
        {
          "output_type": "stream",
          "text": [
            "Warning: Looks like you're using an outdated API Version, please consider updating (server 1.5.12 / client 1.5.4)\n",
            "Downloading sampleSubmission.csv to /content\n",
            "  0% 0.00/86.8k [00:00<?, ?B/s]\n",
            "100% 86.8k/86.8k [00:00<00:00, 32.9MB/s]\n",
            "Downloading train.zip to /content\n",
            "100% 543M/543M [00:02<00:00, 227MB/s]\n",
            "100% 543M/543M [00:02<00:00, 206MB/s]\n",
            "Downloading test1.zip to /content\n",
            " 95% 258M/271M [00:01<00:00, 194MB/s]\n",
            "100% 271M/271M [00:01<00:00, 176MB/s]\n"
          ],
          "name": "stdout"
        }
      ]
    },
    {
      "cell_type": "code",
      "metadata": {
        "colab": {
          "base_uri": "https://localhost:8080/"
        },
        "id": "rkuUc7iM0sRl",
        "outputId": "1024d573-cc1a-4d1f-aa7a-8fb970d15a16"
      },
      "source": [
        "# upload data\n",
        "import zipfile\n",
        "from zipfile import ZipFile\n",
        "\n",
        "file_name = \"/content/train.zip\"\n",
        "with zipfile.ZipFile(file_name, 'r') as zipref:\n",
        "  zipref.extractall()\n",
        "  print('done')"
      ],
      "execution_count": null,
      "outputs": [
        {
          "output_type": "stream",
          "text": [
            "done\n"
          ],
          "name": "stdout"
        }
      ]
    },
    {
      "cell_type": "code",
      "metadata": {
        "colab": {
          "base_uri": "https://localhost:8080/"
        },
        "id": "97N9fsQf9N8k",
        "outputId": "62c8708b-c988-4eaf-8c83-6d3940d7f288"
      },
      "source": [
        "data_dir_list =os.listdir(\"/content/train\") # print(data_dir_list)\n",
        "\n",
        "path, dirs, files = next(os.walk(\"/content/train\"))\n",
        "file_count = len(files)\n",
        "print(file_count)\n",
        "\n",
        "original_dataset_dir = '/content/train'\n",
        "base_dir ='/content/cats_and_dogs_small1'\n",
        "os.mkdir(base_dir)\n"
      ],
      "execution_count": null,
      "outputs": [
        {
          "output_type": "stream",
          "text": [
            "25000\n"
          ],
          "name": "stdout"
        }
      ]
    },
    {
      "cell_type": "code",
      "metadata": {
        "id": "FxzFBshRA_9p"
      },
      "source": [
        "train_dir = os.path.join(base_dir, 'train')\n",
        "os.mkdir(train_dir)\n",
        "\n",
        "validation_dir = os.path.join(base_dir, 'validation')\n",
        "os.mkdir(validation_dir)\n",
        "\n",
        "test_dir = os.path.join(base_dir, 'test')\n",
        "os.mkdir(test_dir)\n",
        "\n",
        "train_cats_dir = os.path.join(train_dir, 'cats')\n",
        "os.mkdir(train_cats_dir)\n",
        "\n",
        "train_dogs_dir = os.path.join(train_dir, 'dogs')\n",
        "os.mkdir(train_dogs_dir)\n",
        "         \n",
        "validation_cats_dir = os.path.join(validation_dir, 'cats')\n",
        "os.mkdir(validation_cats_dir)\n",
        "\n",
        "validation_dogs_dir = os.path.join(validation_dir, 'dogs')\n",
        "os.mkdir(validation_dogs_dir)\n",
        "\n",
        "test_cats_dir = os.path.join(test_dir, 'cats')\n",
        "os.mkdir(test_cats_dir)\n",
        "\n",
        "test_dogs_dir = os.path.join(test_dir, 'dogs')\n",
        "os.mkdir(test_dogs_dir)"
      ],
      "execution_count": null,
      "outputs": []
    },
    {
      "cell_type": "code",
      "metadata": {
        "id": "Ys0EwL0UEEyX"
      },
      "source": [
        "import shutil\n",
        "fnames = ['cat.{}.jpg'.format(i) for i in range(1000)]\n",
        "for fname in fnames:\n",
        "  src = os.path.join(original_dataset_dir, fname)\n",
        "  dst = os.path.join(train_cats_dir, fname)\n",
        "  shutil.copyfile(src, dst)\n",
        "\n",
        "fnames = ['cat.{}.jpg'.format(i) for i in range(1000, 1500)]\n",
        "for fname in fnames:\n",
        "  src = os.path.join(original_dataset_dir, fname)\n",
        "  dst = os.path.join(validation_cats_dir, fname)\n",
        "  shutil.copyfile(src, dst)\n",
        "\n",
        "fnames = ['cat.{}.jpg'.format(i) for i in range(1500, 2000)]\n",
        "for fname in fnames:\n",
        "  src = os.path.join(original_dataset_dir, fname)\n",
        "  dst = os.path.join(test_cats_dir, fname)\n",
        "  shutil.copyfile(src, dst)\n",
        "\n",
        "# Copies the next 500\n",
        "fnames = ['dog.{}.jpg'.format(i) for i in range(1000)]\n",
        "for fname in fnames:\n",
        "  src = os.path.join(original_dataset_dir, fname)\n",
        "  dst = os.path.join(train_dogs_dir, fname)\n",
        "  shutil.copyfile(src, dst)\n",
        "\n",
        "# Copies the first 1,000 dog images to train_dogs_dir\n",
        "fnames = ['dog.{}.jpg'.format(i) for i in range(1000, 1500)]\n",
        "for fname in fnames:\n",
        "  src = os.path.join(original_dataset_dir, fname)\n",
        "  dst = os.path.join(validation_dogs_dir, fname)\n",
        "  shutil.copyfile(src, dst)\n",
        "\n",
        "fnames = ['dog.{}.jpg'.format(i) for i in range(1500, 2000)]\n",
        "for fname in fnames:\n",
        "  src = os.path.join(original_dataset_dir, fname)\n",
        "  dst = os.path.join(test_dogs_dir, fname)\n",
        "  shutil.copyfile(src, dst)"
      ],
      "execution_count": null,
      "outputs": []
    },
    {
      "cell_type": "code",
      "metadata": {
        "colab": {
          "base_uri": "https://localhost:8080/"
        },
        "id": "2hrv5n1xIvbo",
        "outputId": "d2b0b605-649c-4616-9f51-4ef9041061ff"
      },
      "source": [
        "print('total training cat images:', len(os.listdir(train_cats_dir)))\n",
        "print('total training dog images:', len(os.listdir(train_dogs_dir)))\n",
        "print('total validation cat images:', len(os.listdir(validation_cats_dir)))\n",
        "\n",
        "print('total validation dog images:', len(os.listdir(validation_dogs_dir)))\n",
        "print('total test cat images:', len(os.listdir(test_cats_dir)))\n",
        "print('total test dog images:', len(os.listdir(test_dogs_dir)))"
      ],
      "execution_count": null,
      "outputs": [
        {
          "output_type": "stream",
          "text": [
            "total training cat images: 1000\n",
            "total training dog images: 1000\n",
            "total validation cat images: 500\n",
            "total validation dog images: 500\n",
            "total test cat images: 500\n",
            "total test dog images: 500\n"
          ],
          "name": "stdout"
        }
      ]
    },
    {
      "cell_type": "code",
      "metadata": {
        "id": "hcTi3Dd7J3Cs"
      },
      "source": [
        "# Instantiating a small convnet for dogs vs. cats classification\n",
        "from keras import layers\n",
        "from keras import models\n",
        "model = models.Sequential()\n",
        "model.add(layers.Conv2D(32, (3, 3), activation='relu',\n",
        "input_shape=(150, 150, 3)))\n",
        "model.add(layers.MaxPooling2D((2, 2)))\n",
        "model.add(layers.Conv2D(64, (3, 3), activation='relu'))\n",
        "model.add(layers.MaxPooling2D((2, 2)))\n",
        "model.add(layers.Conv2D(128, (3, 3), activation='relu'))\n",
        "model.add(layers.MaxPooling2D((2, 2)))\n",
        "model.add(layers.Conv2D(128, (3, 3), activation='relu'))\n",
        "model.add(layers.MaxPooling2D((2, 2)))\n",
        "model.add(layers.Flatten())\n",
        "model.add(layers.Dense(512, activation='relu'))\n",
        "model.add(layers.Dense(1, activation='sigmoid'))"
      ],
      "execution_count": null,
      "outputs": []
    },
    {
      "cell_type": "code",
      "metadata": {
        "colab": {
          "base_uri": "https://localhost:8080/"
        },
        "id": "QPx2j3NsKQWs",
        "outputId": "7881b074-1513-44db-dceb-11a761ff151f"
      },
      "source": [
        "# Let’s look at how the dimensions of the feature maps change with every successive\n",
        "model.summary()"
      ],
      "execution_count": null,
      "outputs": [
        {
          "output_type": "stream",
          "text": [
            "Model: \"sequential\"\n",
            "_________________________________________________________________\n",
            "Layer (type)                 Output Shape              Param #   \n",
            "=================================================================\n",
            "conv2d (Conv2D)              (None, 148, 148, 32)      896       \n",
            "_________________________________________________________________\n",
            "max_pooling2d (MaxPooling2D) (None, 74, 74, 32)        0         \n",
            "_________________________________________________________________\n",
            "conv2d_1 (Conv2D)            (None, 72, 72, 64)        18496     \n",
            "_________________________________________________________________\n",
            "max_pooling2d_1 (MaxPooling2 (None, 36, 36, 64)        0         \n",
            "_________________________________________________________________\n",
            "conv2d_2 (Conv2D)            (None, 34, 34, 128)       73856     \n",
            "_________________________________________________________________\n",
            "max_pooling2d_2 (MaxPooling2 (None, 17, 17, 128)       0         \n",
            "_________________________________________________________________\n",
            "conv2d_3 (Conv2D)            (None, 15, 15, 128)       147584    \n",
            "_________________________________________________________________\n",
            "max_pooling2d_3 (MaxPooling2 (None, 7, 7, 128)         0         \n",
            "_________________________________________________________________\n",
            "flatten (Flatten)            (None, 6272)              0         \n",
            "_________________________________________________________________\n",
            "dense (Dense)                (None, 512)               3211776   \n",
            "_________________________________________________________________\n",
            "dense_1 (Dense)              (None, 1)                 513       \n",
            "=================================================================\n",
            "Total params: 3,453,121\n",
            "Trainable params: 3,453,121\n",
            "Non-trainable params: 0\n",
            "_________________________________________________________________\n"
          ],
          "name": "stdout"
        }
      ]
    },
    {
      "cell_type": "code",
      "metadata": {
        "colab": {
          "base_uri": "https://localhost:8080/"
        },
        "id": "TmrpZ4OxLEcQ",
        "outputId": "949b05b5-8dad-4085-e9a9-0ca5c0ca86e9"
      },
      "source": [
        "# Configuring the model for training\n",
        "from keras import optimizers\n",
        "model.compile(loss='binary_crossentropy',\n",
        "optimizer=optimizers.RMSprop(lr=1e-4),\n",
        "metrics=['acc'])"
      ],
      "execution_count": null,
      "outputs": [
        {
          "output_type": "stream",
          "text": [
            "/usr/local/lib/python3.7/dist-packages/tensorflow/python/keras/optimizer_v2/optimizer_v2.py:375: UserWarning: The `lr` argument is deprecated, use `learning_rate` instead.\n",
            "  \"The `lr` argument is deprecated, use `learning_rate` instead.\")\n"
          ],
          "name": "stderr"
        }
      ]
    },
    {
      "cell_type": "code",
      "metadata": {
        "colab": {
          "base_uri": "https://localhost:8080/"
        },
        "id": "KD7WhsGRLtmL",
        "outputId": "1e6fe31c-ba06-49df-b3d6-49ffd58cbca3"
      },
      "source": [
        "# Using ImageDataGenerator to read images from directories\n",
        "from keras.preprocessing.image import ImageDataGenerator\n",
        "train_datagen = ImageDataGenerator(rescale=1./255)\n",
        "test_datagen = ImageDataGenerator(rescale=1./255)\n",
        "train_generator = train_datagen.flow_from_directory(train_dir,\n",
        "                                                    target_size=(150, 150),\n",
        "                                                    batch_size=20,\n",
        "                                                    class_mode='binary')\n",
        "\n",
        "validation_generator = test_datagen.flow_from_directory(validation_dir,\n",
        "                                                        target_size=(150, 150),\n",
        "                                                        batch_size=20,\n",
        "                                                        class_mode='binary')\n"
      ],
      "execution_count": null,
      "outputs": [
        {
          "output_type": "stream",
          "text": [
            "Found 2000 images belonging to 2 classes.\n",
            "Found 1000 images belonging to 2 classes.\n"
          ],
          "name": "stdout"
        }
      ]
    },
    {
      "cell_type": "code",
      "metadata": {
        "colab": {
          "base_uri": "https://localhost:8080/"
        },
        "id": "Ba2TNIEyNlYY",
        "outputId": "0cda1621-4324-43b5-cb89-5c6ca1e36ff1"
      },
      "source": [
        "history = model.fit_generator(\n",
        "train_generator,\n",
        "steps_per_epoch=100,\n",
        "epochs=30,\n",
        "validation_data=validation_generator,\n",
        "validation_steps=50)\n",
        "\n",
        "# It’s good practice to always save your models after training.\n",
        "# Saving the model\n",
        "\n",
        "model.save('cats_and_dogs_small_2.h5')"
      ],
      "execution_count": null,
      "outputs": [
        {
          "output_type": "stream",
          "text": [
            "/usr/local/lib/python3.7/dist-packages/keras/engine/training.py:1915: UserWarning: `Model.fit_generator` is deprecated and will be removed in a future version. Please use `Model.fit`, which supports generators.\n",
            "  warnings.warn('`Model.fit_generator` is deprecated and '\n"
          ],
          "name": "stderr"
        },
        {
          "output_type": "stream",
          "text": [
            "Epoch 1/30\n",
            "100/100 [==============================] - 52s 89ms/step - loss: 0.6956 - acc: 0.5043 - val_loss: 0.6762 - val_acc: 0.5330\n",
            "Epoch 2/30\n",
            "100/100 [==============================] - 9s 86ms/step - loss: 0.6712 - acc: 0.6025 - val_loss: 0.6501 - val_acc: 0.6260\n",
            "Epoch 3/30\n",
            "100/100 [==============================] - 9s 87ms/step - loss: 0.6242 - acc: 0.6749 - val_loss: 0.6236 - val_acc: 0.6480\n",
            "Epoch 4/30\n",
            "100/100 [==============================] - 9s 86ms/step - loss: 0.5881 - acc: 0.6862 - val_loss: 0.6031 - val_acc: 0.6780\n",
            "Epoch 5/30\n",
            "100/100 [==============================] - 9s 85ms/step - loss: 0.5581 - acc: 0.7156 - val_loss: 0.5997 - val_acc: 0.6700\n",
            "Epoch 6/30\n",
            "100/100 [==============================] - 9s 85ms/step - loss: 0.5294 - acc: 0.7443 - val_loss: 0.6110 - val_acc: 0.6780\n",
            "Epoch 7/30\n",
            "100/100 [==============================] - 9s 86ms/step - loss: 0.4752 - acc: 0.7652 - val_loss: 0.5658 - val_acc: 0.7120\n",
            "Epoch 8/30\n",
            "100/100 [==============================] - 9s 85ms/step - loss: 0.4716 - acc: 0.7732 - val_loss: 0.5543 - val_acc: 0.7160\n",
            "Epoch 9/30\n",
            "100/100 [==============================] - 9s 87ms/step - loss: 0.4490 - acc: 0.7860 - val_loss: 0.5652 - val_acc: 0.7190\n",
            "Epoch 10/30\n",
            "100/100 [==============================] - 8s 84ms/step - loss: 0.4164 - acc: 0.8107 - val_loss: 0.5553 - val_acc: 0.7200\n",
            "Epoch 11/30\n",
            "100/100 [==============================] - 9s 85ms/step - loss: 0.3829 - acc: 0.8307 - val_loss: 0.5677 - val_acc: 0.7170\n",
            "Epoch 12/30\n",
            "100/100 [==============================] - 9s 86ms/step - loss: 0.3568 - acc: 0.8433 - val_loss: 0.5534 - val_acc: 0.7160\n",
            "Epoch 13/30\n",
            "100/100 [==============================] - 9s 87ms/step - loss: 0.3268 - acc: 0.8637 - val_loss: 0.6844 - val_acc: 0.6860\n",
            "Epoch 14/30\n",
            "100/100 [==============================] - 8s 85ms/step - loss: 0.3108 - acc: 0.8795 - val_loss: 0.6143 - val_acc: 0.7100\n",
            "Epoch 15/30\n",
            "100/100 [==============================] - 8s 85ms/step - loss: 0.2945 - acc: 0.8702 - val_loss: 0.6543 - val_acc: 0.7140\n",
            "Epoch 16/30\n",
            "100/100 [==============================] - 9s 86ms/step - loss: 0.2924 - acc: 0.8789 - val_loss: 0.6019 - val_acc: 0.7220\n",
            "Epoch 17/30\n",
            "100/100 [==============================] - 9s 85ms/step - loss: 0.2382 - acc: 0.9121 - val_loss: 0.6232 - val_acc: 0.7140\n",
            "Epoch 18/30\n",
            "100/100 [==============================] - 8s 85ms/step - loss: 0.2206 - acc: 0.9283 - val_loss: 0.6826 - val_acc: 0.7110\n",
            "Epoch 19/30\n",
            "100/100 [==============================] - 8s 83ms/step - loss: 0.1953 - acc: 0.9274 - val_loss: 0.6443 - val_acc: 0.7260\n",
            "Epoch 20/30\n",
            "100/100 [==============================] - 8s 85ms/step - loss: 0.1885 - acc: 0.9252 - val_loss: 0.7258 - val_acc: 0.7210\n",
            "Epoch 21/30\n",
            "100/100 [==============================] - 9s 86ms/step - loss: 0.1674 - acc: 0.9432 - val_loss: 0.7050 - val_acc: 0.7190\n",
            "Epoch 22/30\n",
            "100/100 [==============================] - 9s 86ms/step - loss: 0.1382 - acc: 0.9603 - val_loss: 0.7314 - val_acc: 0.7220\n",
            "Epoch 23/30\n",
            "100/100 [==============================] - 8s 85ms/step - loss: 0.1189 - acc: 0.9646 - val_loss: 0.7475 - val_acc: 0.7320\n",
            "Epoch 24/30\n",
            "100/100 [==============================] - 8s 84ms/step - loss: 0.1037 - acc: 0.9679 - val_loss: 0.7752 - val_acc: 0.7270\n",
            "Epoch 25/30\n",
            "100/100 [==============================] - 9s 85ms/step - loss: 0.0899 - acc: 0.9753 - val_loss: 0.8012 - val_acc: 0.7230\n",
            "Epoch 26/30\n",
            "100/100 [==============================] - 8s 85ms/step - loss: 0.0844 - acc: 0.9740 - val_loss: 0.8246 - val_acc: 0.7370\n",
            "Epoch 27/30\n",
            "100/100 [==============================] - 9s 85ms/step - loss: 0.0775 - acc: 0.9808 - val_loss: 0.8567 - val_acc: 0.7220\n",
            "Epoch 28/30\n",
            "100/100 [==============================] - 8s 85ms/step - loss: 0.0715 - acc: 0.9787 - val_loss: 0.9016 - val_acc: 0.7240\n",
            "Epoch 29/30\n",
            "100/100 [==============================] - 8s 84ms/step - loss: 0.0434 - acc: 0.9886 - val_loss: 1.0864 - val_acc: 0.7200\n",
            "Epoch 30/30\n",
            "100/100 [==============================] - 9s 86ms/step - loss: 0.0422 - acc: 0.9902 - val_loss: 1.0168 - val_acc: 0.7190\n"
          ],
          "name": "stdout"
        }
      ]
    },
    {
      "cell_type": "code",
      "metadata": {
        "colab": {
          "base_uri": "https://localhost:8080/",
          "height": 545
        },
        "id": "hnJ6wDV9PuSB",
        "outputId": "c863b496-f101-42bc-e615-46c4933faf91"
      },
      "source": [
        "import matplotlib.pyplot as plt\n",
        "\n",
        "acc = history.history['acc']\n",
        "val_acc = history.history['val_acc']\n",
        "loss = history.history['loss']\n",
        "val_loss = history.history['val_loss']\n",
        "\n",
        "epochs = range(1, len(acc) + 1)\n",
        "\n",
        "plt.plot(epochs, acc, 'bo', label='Training acc')\n",
        "plt.plot(epochs, val_acc, 'b', label='Validation acc')\n",
        "plt.title('Training and validation accuracy')\n",
        "plt.legend()\n",
        "\n",
        "plt.figure()\n",
        "plt.plot(epochs, loss, 'bo', label='Training loss')\n",
        "plt.plot(epochs, val_loss, 'b', label='Validation loss')\n",
        "plt.title('Training and validation loss')\n",
        "plt.legend()\n",
        "\n",
        "plt.show()"
      ],
      "execution_count": null,
      "outputs": [
        {
          "output_type": "display_data",
          "data": {
            "image/png": "[encoded data removed]",
            "text/plain": [
              "<Figure size 432x288 with 1 Axes>"
            ]
          },
          "metadata": {
            "tags": [],
            "needs_background": "light"
          }
        },
        {
          "output_type": "display_data",
          "data": {
            "image/png": "[encoded data removed]",
            "text/plain": [
              "<Figure size 432x288 with 1 Axes>"
            ]
          },
          "metadata": {
            "tags": [],
            "needs_background": "light"
          }
        }
      ]
    },
    {
      "cell_type": "code",
      "metadata": {
        "colab": {
          "base_uri": "https://localhost:8080/"
        },
        "id": "5avRCj_SQBCL",
        "outputId": "b60d04c2-1a70-431c-ec13-9e67ce7d8542"
      },
      "source": [
        "# Defining a new convnet that includes dropout\n",
        "model = models.Sequential()\n",
        "model.add(layers.Conv2D(32, (3, 3), activation='relu',\n",
        "input_shape=(150, 150, 3)))\n",
        "model.add(layers.MaxPooling2D((2, 2)))\n",
        "model.add(layers.Conv2D(64, (3, 3), activation='relu'))\n",
        "model.add(layers.MaxPooling2D((2, 2)))\n",
        "model.add(layers.Conv2D(128, (3, 3), activation='relu'))\n",
        "model.add(layers.MaxPooling2D((2, 2)))\n",
        "model.add(layers.Conv2D(128, (3, 3), activation='relu'))\n",
        "model.add(layers.MaxPooling2D((2, 2)))\n",
        "model.add(layers.Flatten())\n",
        "model.add(layers.Dropout(0.5))\n",
        "model.add(layers.Dense(512, activation='relu'))\n",
        "model.add(layers.Dense(1, activation='sigmoid'))\n",
        "model.summary()"
      ],
      "execution_count": null,
      "outputs": [
        {
          "output_type": "stream",
          "text": [
            "Model: \"sequential_1\"\n",
            "_________________________________________________________________\n",
            "Layer (type)                 Output Shape              Param #   \n",
            "=================================================================\n",
            "conv2d_4 (Conv2D)            (None, 148, 148, 32)      896       \n",
            "_________________________________________________________________\n",
            "max_pooling2d_4 (MaxPooling2 (None, 74, 74, 32)        0         \n",
            "_________________________________________________________________\n",
            "conv2d_5 (Conv2D)            (None, 72, 72, 64)        18496     \n",
            "_________________________________________________________________\n",
            "max_pooling2d_5 (MaxPooling2 (None, 36, 36, 64)        0         \n",
            "_________________________________________________________________\n",
            "conv2d_6 (Conv2D)            (None, 34, 34, 128)       73856     \n",
            "_________________________________________________________________\n",
            "max_pooling2d_6 (MaxPooling2 (None, 17, 17, 128)       0         \n",
            "_________________________________________________________________\n",
            "conv2d_7 (Conv2D)            (None, 15, 15, 128)       147584    \n",
            "_________________________________________________________________\n",
            "max_pooling2d_7 (MaxPooling2 (None, 7, 7, 128)         0         \n",
            "_________________________________________________________________\n",
            "flatten_1 (Flatten)          (None, 6272)              0         \n",
            "_________________________________________________________________\n",
            "dropout (Dropout)            (None, 6272)              0         \n",
            "_________________________________________________________________\n",
            "dense_2 (Dense)              (None, 512)               3211776   \n",
            "_________________________________________________________________\n",
            "dense_3 (Dense)              (None, 1)                 513       \n",
            "=================================================================\n",
            "Total params: 3,453,121\n",
            "Trainable params: 3,453,121\n",
            "Non-trainable params: 0\n",
            "_________________________________________________________________\n"
          ],
          "name": "stdout"
        }
      ]
    },
    {
      "cell_type": "code",
      "metadata": {
        "colab": {
          "base_uri": "https://localhost:8080/"
        },
        "id": "31iRoTXdRBY6",
        "outputId": "9292daf5-fc11-41a5-a155-93a54d90be84"
      },
      "source": [
        "model.compile(loss='binary_crossentropy',\n",
        "optimizer=optimizers.RMSprop(lr=1e-4),\n",
        "metrics=['acc'])"
      ],
      "execution_count": null,
      "outputs": [
        {
          "output_type": "stream",
          "text": [
            "/usr/local/lib/python3.7/dist-packages/tensorflow/python/keras/optimizer_v2/optimizer_v2.py:375: UserWarning: The `lr` argument is deprecated, use `learning_rate` instead.\n",
            "  \"The `lr` argument is deprecated, use `learning_rate` instead.\")\n"
          ],
          "name": "stderr"
        }
      ]
    },
    {
      "cell_type": "code",
      "metadata": {
        "colab": {
          "base_uri": "https://localhost:8080/"
        },
        "id": "omZR_1kZSOtR",
        "outputId": "69498ab9-7a8e-42b9-c91e-791b7a361e8c"
      },
      "source": [
        "# Training the convnet using data-augmentation generators\n",
        "train_datagen = ImageDataGenerator(\n",
        "rescale=1./255,\n",
        "rotation_range=40,\n",
        "width_shift_range=0.2,\n",
        "height_shift_range=0.2,\n",
        "shear_range=0.2,\n",
        "zoom_range=0.2,\n",
        "horizontal_flip=True,)\n",
        "\n",
        "test_datagen = ImageDataGenerator(rescale=1./255)\n",
        "\n",
        "train_generator = train_datagen.flow_from_directory(\n",
        "train_dir,\n",
        "target_size=(150, 150),\n",
        "batch_size=32,\n",
        "class_mode='binary')\n",
        "\n",
        "validation_generator = test_datagen.flow_from_directory(\n",
        "validation_dir,\n",
        "target_size=(150, 150),\n",
        "batch_size=20,\n",
        "class_mode='binary')"
      ],
      "execution_count": null,
      "outputs": [
        {
          "output_type": "stream",
          "text": [
            "Found 2000 images belonging to 2 classes.\n",
            "Found 1000 images belonging to 2 classes.\n"
          ],
          "name": "stdout"
        }
      ]
    },
    {
      "cell_type": "code",
      "metadata": {
        "colab": {
          "base_uri": "https://localhost:8080/"
        },
        "id": "3VwxSTfKUAIo",
        "outputId": "9d47d708-e82f-4fa9-a961-acd73bed6ebc"
      },
      "source": [
        "history = model.fit_generator(train_generator,\n",
        "                              steps_per_epoch=50,\n",
        "                              epochs=100,\n",
        "                              validation_data=validation_generator,\n",
        "                              validation_steps=50)"
      ],
      "execution_count": null,
      "outputs": [
        {
          "output_type": "stream",
          "text": [
            "/usr/local/lib/python3.7/dist-packages/keras/engine/training.py:1915: UserWarning: `Model.fit_generator` is deprecated and will be removed in a future version. Please use `Model.fit`, which supports generators.\n",
            "  warnings.warn('`Model.fit_generator` is deprecated and '\n"
          ],
          "name": "stderr"
        },
        {
          "output_type": "stream",
          "text": [
            "Epoch 1/100\n",
            "50/50 [==============================] - 13s 265ms/step - loss: 0.6561 - acc: 0.6244 - val_loss: 0.6238 - val_acc: 0.6480\n",
            "Epoch 2/100\n",
            "50/50 [==============================] - 13s 261ms/step - loss: 0.6449 - acc: 0.6199 - val_loss: 0.6196 - val_acc: 0.6500\n",
            "Epoch 3/100\n",
            "50/50 [==============================] - 13s 261ms/step - loss: 0.6316 - acc: 0.6439 - val_loss: 0.6428 - val_acc: 0.6120\n",
            "Epoch 4/100\n",
            "50/50 [==============================] - 13s 260ms/step - loss: 0.6252 - acc: 0.6364 - val_loss: 0.6172 - val_acc: 0.6530\n",
            "Epoch 5/100\n",
            "50/50 [==============================] - 13s 261ms/step - loss: 0.6138 - acc: 0.6591 - val_loss: 0.5911 - val_acc: 0.6790\n",
            "Epoch 6/100\n",
            "50/50 [==============================] - 13s 259ms/step - loss: 0.6200 - acc: 0.6540 - val_loss: 0.6078 - val_acc: 0.6650\n",
            "Epoch 7/100\n",
            "50/50 [==============================] - 13s 260ms/step - loss: 0.6132 - acc: 0.6610 - val_loss: 0.6274 - val_acc: 0.6510\n",
            "Epoch 8/100\n",
            "50/50 [==============================] - 13s 260ms/step - loss: 0.5964 - acc: 0.6762 - val_loss: 0.6043 - val_acc: 0.6560\n",
            "Epoch 9/100\n",
            "50/50 [==============================] - 13s 260ms/step - loss: 0.5882 - acc: 0.6850 - val_loss: 0.5819 - val_acc: 0.6820\n",
            "Epoch 10/100\n",
            "50/50 [==============================] - 13s 260ms/step - loss: 0.5978 - acc: 0.6780 - val_loss: 0.5532 - val_acc: 0.7140\n",
            "Epoch 11/100\n",
            "50/50 [==============================] - 13s 259ms/step - loss: 0.5873 - acc: 0.6787 - val_loss: 0.5661 - val_acc: 0.7050\n",
            "Epoch 12/100\n",
            "50/50 [==============================] - 13s 260ms/step - loss: 0.5852 - acc: 0.6900 - val_loss: 0.5605 - val_acc: 0.7030\n",
            "Epoch 13/100\n",
            "50/50 [==============================] - 13s 258ms/step - loss: 0.5698 - acc: 0.7102 - val_loss: 0.5528 - val_acc: 0.7090\n",
            "Epoch 14/100\n",
            "50/50 [==============================] - 13s 261ms/step - loss: 0.5808 - acc: 0.6938 - val_loss: 0.5830 - val_acc: 0.6830\n",
            "Epoch 15/100\n",
            "50/50 [==============================] - 13s 261ms/step - loss: 0.5617 - acc: 0.7138 - val_loss: 0.5882 - val_acc: 0.6800\n",
            "Epoch 16/100\n",
            "50/50 [==============================] - 13s 259ms/step - loss: 0.5691 - acc: 0.6875 - val_loss: 0.5433 - val_acc: 0.7230\n",
            "Epoch 17/100\n",
            "50/50 [==============================] - 13s 259ms/step - loss: 0.5735 - acc: 0.7020 - val_loss: 0.5379 - val_acc: 0.7220\n",
            "Epoch 18/100\n",
            "50/50 [==============================] - 13s 261ms/step - loss: 0.5708 - acc: 0.7027 - val_loss: 0.5773 - val_acc: 0.6940\n",
            "Epoch 19/100\n",
            "50/50 [==============================] - 13s 259ms/step - loss: 0.5637 - acc: 0.7128 - val_loss: 0.5354 - val_acc: 0.7090\n",
            "Epoch 20/100\n",
            "50/50 [==============================] - 13s 261ms/step - loss: 0.5608 - acc: 0.7181 - val_loss: 0.5374 - val_acc: 0.7210\n",
            "Epoch 21/100\n",
            "50/50 [==============================] - 13s 260ms/step - loss: 0.5613 - acc: 0.6957 - val_loss: 0.6204 - val_acc: 0.6650\n",
            "Epoch 22/100\n",
            "50/50 [==============================] - 13s 258ms/step - loss: 0.5519 - acc: 0.7121 - val_loss: 0.5379 - val_acc: 0.7140\n",
            "Epoch 23/100\n",
            "50/50 [==============================] - 13s 258ms/step - loss: 0.5516 - acc: 0.7229 - val_loss: 0.5208 - val_acc: 0.7290\n",
            "Epoch 24/100\n",
            "50/50 [==============================] - 13s 261ms/step - loss: 0.5282 - acc: 0.7386 - val_loss: 0.5444 - val_acc: 0.7060\n",
            "Epoch 25/100\n",
            "50/50 [==============================] - 13s 260ms/step - loss: 0.5695 - acc: 0.7081 - val_loss: 0.5327 - val_acc: 0.7260\n",
            "Epoch 26/100\n",
            "50/50 [==============================] - 13s 259ms/step - loss: 0.5429 - acc: 0.7254 - val_loss: 0.5002 - val_acc: 0.7400\n",
            "Epoch 27/100\n",
            "50/50 [==============================] - 13s 260ms/step - loss: 0.5425 - acc: 0.7323 - val_loss: 0.5447 - val_acc: 0.7120\n",
            "Epoch 28/100\n",
            "50/50 [==============================] - 13s 260ms/step - loss: 0.5472 - acc: 0.7146 - val_loss: 0.5214 - val_acc: 0.7230\n",
            "Epoch 29/100\n",
            "50/50 [==============================] - 13s 263ms/step - loss: 0.5303 - acc: 0.7262 - val_loss: 0.5513 - val_acc: 0.7120\n",
            "Epoch 30/100\n",
            "50/50 [==============================] - 13s 259ms/step - loss: 0.5288 - acc: 0.7367 - val_loss: 0.5091 - val_acc: 0.7420\n",
            "Epoch 31/100\n",
            "50/50 [==============================] - 13s 260ms/step - loss: 0.5227 - acc: 0.7443 - val_loss: 0.5814 - val_acc: 0.6870\n",
            "Epoch 32/100\n",
            "50/50 [==============================] - 13s 261ms/step - loss: 0.5304 - acc: 0.7437 - val_loss: 0.5043 - val_acc: 0.7450\n",
            "Epoch 33/100\n",
            "50/50 [==============================] - 13s 258ms/step - loss: 0.5184 - acc: 0.7342 - val_loss: 0.5382 - val_acc: 0.7200\n",
            "Epoch 34/100\n",
            "50/50 [==============================] - 13s 262ms/step - loss: 0.5248 - acc: 0.7393 - val_loss: 0.5625 - val_acc: 0.7060\n",
            "Epoch 35/100\n",
            "50/50 [==============================] - 13s 262ms/step - loss: 0.5172 - acc: 0.7374 - val_loss: 0.5276 - val_acc: 0.7220\n",
            "Epoch 36/100\n",
            "50/50 [==============================] - 14s 272ms/step - loss: 0.5202 - acc: 0.7355 - val_loss: 0.5353 - val_acc: 0.7380\n",
            "Epoch 37/100\n",
            "50/50 [==============================] - 13s 270ms/step - loss: 0.5197 - acc: 0.7424 - val_loss: 0.5356 - val_acc: 0.7200\n",
            "Epoch 38/100\n",
            "50/50 [==============================] - 13s 261ms/step - loss: 0.5083 - acc: 0.7367 - val_loss: 0.4939 - val_acc: 0.7620\n",
            "Epoch 39/100\n",
            "50/50 [==============================] - 13s 260ms/step - loss: 0.5093 - acc: 0.7462 - val_loss: 0.5343 - val_acc: 0.7190\n",
            "Epoch 40/100\n",
            "50/50 [==============================] - 13s 259ms/step - loss: 0.5030 - acc: 0.7551 - val_loss: 0.5103 - val_acc: 0.7420\n",
            "Epoch 41/100\n",
            "50/50 [==============================] - 13s 259ms/step - loss: 0.5185 - acc: 0.7468 - val_loss: 0.4747 - val_acc: 0.7700\n",
            "Epoch 42/100\n",
            "50/50 [==============================] - 13s 261ms/step - loss: 0.5132 - acc: 0.7532 - val_loss: 0.5453 - val_acc: 0.7200\n",
            "Epoch 43/100\n",
            "50/50 [==============================] - 13s 259ms/step - loss: 0.5229 - acc: 0.7386 - val_loss: 0.4781 - val_acc: 0.7670\n",
            "Epoch 44/100\n",
            "50/50 [==============================] - 13s 260ms/step - loss: 0.5094 - acc: 0.7386 - val_loss: 0.5317 - val_acc: 0.7330\n",
            "Epoch 45/100\n",
            "50/50 [==============================] - 13s 259ms/step - loss: 0.5151 - acc: 0.7424 - val_loss: 0.5137 - val_acc: 0.7240\n",
            "Epoch 46/100\n",
            "50/50 [==============================] - 13s 259ms/step - loss: 0.4847 - acc: 0.7569 - val_loss: 0.5515 - val_acc: 0.7280\n",
            "Epoch 47/100\n",
            "50/50 [==============================] - 13s 261ms/step - loss: 0.4981 - acc: 0.7475 - val_loss: 0.4889 - val_acc: 0.7550\n",
            "Epoch 48/100\n",
            "50/50 [==============================] - 13s 260ms/step - loss: 0.5070 - acc: 0.7500 - val_loss: 0.4885 - val_acc: 0.7560\n",
            "Epoch 49/100\n",
            "50/50 [==============================] - 13s 258ms/step - loss: 0.5109 - acc: 0.7462 - val_loss: 0.4723 - val_acc: 0.7690\n",
            "Epoch 50/100\n",
            "50/50 [==============================] - 13s 259ms/step - loss: 0.4941 - acc: 0.7601 - val_loss: 0.4931 - val_acc: 0.7510\n",
            "Epoch 51/100\n",
            "50/50 [==============================] - 13s 264ms/step - loss: 0.4642 - acc: 0.7831 - val_loss: 0.4911 - val_acc: 0.7670\n",
            "Epoch 52/100\n",
            "50/50 [==============================] - 13s 260ms/step - loss: 0.5028 - acc: 0.7532 - val_loss: 0.4984 - val_acc: 0.7440\n",
            "Epoch 53/100\n",
            "50/50 [==============================] - 13s 260ms/step - loss: 0.4888 - acc: 0.7532 - val_loss: 0.4774 - val_acc: 0.7740\n",
            "Epoch 54/100\n",
            "50/50 [==============================] - 13s 259ms/step - loss: 0.4709 - acc: 0.7731 - val_loss: 0.4819 - val_acc: 0.7690\n",
            "Epoch 55/100\n",
            "50/50 [==============================] - 13s 259ms/step - loss: 0.4799 - acc: 0.7683 - val_loss: 0.5293 - val_acc: 0.7330\n",
            "Epoch 56/100\n",
            "50/50 [==============================] - 13s 260ms/step - loss: 0.4961 - acc: 0.7538 - val_loss: 0.5415 - val_acc: 0.7320\n",
            "Epoch 57/100\n",
            "50/50 [==============================] - 13s 260ms/step - loss: 0.4770 - acc: 0.7664 - val_loss: 0.4833 - val_acc: 0.7690\n",
            "Epoch 58/100\n",
            "50/50 [==============================] - 13s 263ms/step - loss: 0.4885 - acc: 0.7788 - val_loss: 0.4884 - val_acc: 0.7690\n",
            "Epoch 59/100\n",
            "50/50 [==============================] - 13s 262ms/step - loss: 0.4587 - acc: 0.7744 - val_loss: 0.5113 - val_acc: 0.7560\n",
            "Epoch 60/100\n",
            "50/50 [==============================] - 13s 260ms/step - loss: 0.4675 - acc: 0.7822 - val_loss: 0.4949 - val_acc: 0.7450\n",
            "Epoch 61/100\n",
            "50/50 [==============================] - 13s 265ms/step - loss: 0.4861 - acc: 0.7763 - val_loss: 0.5551 - val_acc: 0.7280\n",
            "Epoch 62/100\n",
            "50/50 [==============================] - 13s 261ms/step - loss: 0.4727 - acc: 0.7778 - val_loss: 0.5117 - val_acc: 0.7490\n",
            "Epoch 63/100\n",
            "50/50 [==============================] - 13s 261ms/step - loss: 0.4624 - acc: 0.7828 - val_loss: 0.5661 - val_acc: 0.7210\n",
            "Epoch 64/100\n",
            "50/50 [==============================] - 13s 260ms/step - loss: 0.4744 - acc: 0.7778 - val_loss: 0.4813 - val_acc: 0.7710\n",
            "Epoch 65/100\n",
            "50/50 [==============================] - 13s 260ms/step - loss: 0.4785 - acc: 0.7715 - val_loss: 0.5018 - val_acc: 0.7560\n",
            "Epoch 66/100\n",
            "50/50 [==============================] - 13s 258ms/step - loss: 0.4918 - acc: 0.7582 - val_loss: 0.4773 - val_acc: 0.7680\n",
            "Epoch 67/100\n",
            "50/50 [==============================] - 13s 260ms/step - loss: 0.4695 - acc: 0.7803 - val_loss: 0.4615 - val_acc: 0.7750\n",
            "Epoch 68/100\n",
            "50/50 [==============================] - 13s 262ms/step - loss: 0.4642 - acc: 0.7809 - val_loss: 0.4392 - val_acc: 0.7930\n",
            "Epoch 69/100\n",
            "50/50 [==============================] - 13s 261ms/step - loss: 0.4602 - acc: 0.7765 - val_loss: 0.5050 - val_acc: 0.7630\n",
            "Epoch 70/100\n",
            "50/50 [==============================] - 13s 264ms/step - loss: 0.4516 - acc: 0.7803 - val_loss: 0.5840 - val_acc: 0.7280\n",
            "Epoch 71/100\n",
            "50/50 [==============================] - 13s 264ms/step - loss: 0.4716 - acc: 0.7744 - val_loss: 0.4725 - val_acc: 0.7780\n",
            "Epoch 72/100\n",
            "50/50 [==============================] - 13s 261ms/step - loss: 0.4563 - acc: 0.7879 - val_loss: 0.4570 - val_acc: 0.7800\n",
            "Epoch 73/100\n",
            "50/50 [==============================] - 13s 266ms/step - loss: 0.4700 - acc: 0.7638 - val_loss: 0.5910 - val_acc: 0.7230\n",
            "Epoch 74/100\n",
            "50/50 [==============================] - 13s 259ms/step - loss: 0.4628 - acc: 0.7828 - val_loss: 0.4765 - val_acc: 0.7590\n",
            "Epoch 75/100\n",
            "50/50 [==============================] - 13s 260ms/step - loss: 0.4565 - acc: 0.7866 - val_loss: 0.4503 - val_acc: 0.7880\n",
            "Epoch 76/100\n",
            "50/50 [==============================] - 13s 259ms/step - loss: 0.4735 - acc: 0.7664 - val_loss: 0.4646 - val_acc: 0.7800\n",
            "Epoch 77/100\n",
            "50/50 [==============================] - 13s 260ms/step - loss: 0.4510 - acc: 0.7860 - val_loss: 0.4748 - val_acc: 0.7610\n",
            "Epoch 78/100\n",
            "50/50 [==============================] - 13s 262ms/step - loss: 0.4580 - acc: 0.7847 - val_loss: 0.4641 - val_acc: 0.7760\n",
            "Epoch 79/100\n",
            "50/50 [==============================] - 13s 258ms/step - loss: 0.4476 - acc: 0.7866 - val_loss: 0.4721 - val_acc: 0.7780\n",
            "Epoch 80/100\n",
            "50/50 [==============================] - 13s 259ms/step - loss: 0.4329 - acc: 0.7917 - val_loss: 0.4491 - val_acc: 0.7820\n",
            "Epoch 81/100\n",
            "50/50 [==============================] - 13s 259ms/step - loss: 0.4490 - acc: 0.7790 - val_loss: 0.4772 - val_acc: 0.7800\n",
            "Epoch 82/100\n",
            "50/50 [==============================] - 13s 261ms/step - loss: 0.4519 - acc: 0.7910 - val_loss: 0.4929 - val_acc: 0.7730\n",
            "Epoch 83/100\n",
            "50/50 [==============================] - 13s 261ms/step - loss: 0.4620 - acc: 0.7806 - val_loss: 0.5355 - val_acc: 0.7290\n",
            "Epoch 84/100\n",
            "50/50 [==============================] - 13s 262ms/step - loss: 0.4441 - acc: 0.7904 - val_loss: 0.4541 - val_acc: 0.7840\n",
            "Epoch 85/100\n",
            "50/50 [==============================] - 13s 259ms/step - loss: 0.4325 - acc: 0.8030 - val_loss: 0.4773 - val_acc: 0.7670\n",
            "Epoch 86/100\n",
            "50/50 [==============================] - 13s 261ms/step - loss: 0.4373 - acc: 0.7973 - val_loss: 0.4488 - val_acc: 0.7910\n",
            "Epoch 87/100\n",
            "50/50 [==============================] - 13s 260ms/step - loss: 0.4431 - acc: 0.7923 - val_loss: 0.4394 - val_acc: 0.7920\n",
            "Epoch 88/100\n",
            "50/50 [==============================] - 13s 264ms/step - loss: 0.4435 - acc: 0.7885 - val_loss: 0.4454 - val_acc: 0.7970\n",
            "Epoch 89/100\n",
            "50/50 [==============================] - 13s 261ms/step - loss: 0.4305 - acc: 0.7999 - val_loss: 0.4765 - val_acc: 0.7760\n",
            "Epoch 90/100\n",
            "50/50 [==============================] - 13s 262ms/step - loss: 0.4479 - acc: 0.7900 - val_loss: 0.4619 - val_acc: 0.7850\n",
            "Epoch 91/100\n",
            "50/50 [==============================] - 13s 262ms/step - loss: 0.4425 - acc: 0.7986 - val_loss: 0.5189 - val_acc: 0.7420\n",
            "Epoch 92/100\n",
            "50/50 [==============================] - 13s 261ms/step - loss: 0.4245 - acc: 0.8182 - val_loss: 0.4972 - val_acc: 0.7870\n",
            "Epoch 93/100\n",
            "50/50 [==============================] - 13s 259ms/step - loss: 0.4409 - acc: 0.7904 - val_loss: 0.5035 - val_acc: 0.7790\n",
            "Epoch 94/100\n",
            "50/50 [==============================] - 13s 258ms/step - loss: 0.4476 - acc: 0.7891 - val_loss: 0.4462 - val_acc: 0.7880\n",
            "Epoch 95/100\n",
            "50/50 [==============================] - 13s 263ms/step - loss: 0.4365 - acc: 0.7862 - val_loss: 0.4391 - val_acc: 0.7990\n",
            "Epoch 96/100\n",
            "50/50 [==============================] - 13s 259ms/step - loss: 0.4338 - acc: 0.7973 - val_loss: 0.4635 - val_acc: 0.7830\n",
            "Epoch 97/100\n",
            "50/50 [==============================] - 13s 264ms/step - loss: 0.4470 - acc: 0.7917 - val_loss: 0.4534 - val_acc: 0.7900\n",
            "Epoch 98/100\n",
            "50/50 [==============================] - 13s 262ms/step - loss: 0.4231 - acc: 0.8056 - val_loss: 0.4763 - val_acc: 0.7880\n",
            "Epoch 99/100\n",
            "50/50 [==============================] - 13s 264ms/step - loss: 0.4181 - acc: 0.8049 - val_loss: 0.4513 - val_acc: 0.7890\n",
            "Epoch 100/100\n",
            "50/50 [==============================] - 13s 262ms/step - loss: 0.4493 - acc: 0.7917 - val_loss: 0.5109 - val_acc: 0.7620\n"
          ],
          "name": "stdout"
        }
      ]
    },
    {
      "cell_type": "code",
      "metadata": {
        "colab": {
          "base_uri": "https://localhost:8080/",
          "height": 545
        },
        "id": "IV-Z25yRvzIn",
        "outputId": "8f7623f7-09e3-499a-e527-98d203803504"
      },
      "source": [
        "import matplotlib.pyplot as plt\n",
        "acc = history.history['acc']\n",
        "val_acc = history.history['val_acc']\n",
        "loss = history.history['loss']\n",
        "val_loss = history.history['val_loss']\n",
        "epochs = range(1, len(acc) + 1)\n",
        "plt.plot(epochs, acc, 'bo', label='Training acc')\n",
        "plt.plot(epochs, val_acc, 'b', label='Validation acc')\n",
        "plt.title('Training and validation accuracy')\n",
        "plt.legend()\n",
        "plt.figure()\n",
        "plt.plot(epochs, loss, 'bo', label='Training loss')\n",
        "plt.plot(epochs, val_loss, 'b', label='Validation loss')\n",
        "plt.title('Training and validation loss')\n",
        "plt.legend()\n",
        "plt.show()"
      ],
      "execution_count": null,
      "outputs": [
        {
          "output_type": "display_data",
          "data": {
            "image/png": "[encoded data removed]",
            "text/plain": [
              "<Figure size 432x288 with 1 Axes>"
            ]
          },
          "metadata": {
            "tags": [],
            "needs_background": "light"
          }
        },
        {
          "output_type": "display_data",
          "data": {
            "image/png": "[encoded data removed]",
            "text/plain": [
              "<Figure size 432x288 with 1 Axes>"
            ]
          },
          "metadata": {
            "tags": [],
            "needs_background": "light"
          }
        }
      ]
    },
    {
      "cell_type": "code",
      "metadata": {
        "id": "xwym4LgEwOp3"
      },
      "source": [
        ""
      ],
      "execution_count": null,
      "outputs": []
    }
  ]
}